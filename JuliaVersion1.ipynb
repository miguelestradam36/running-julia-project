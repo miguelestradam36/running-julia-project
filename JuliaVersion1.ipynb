{
 "cells": [
  {
   "cell_type": "markdown",
   "id": "da462257-1285-4c6a-aca9-31b8afe89641",
   "metadata": {},
   "source": [
    "# Julia Programming language\n",
    "\n",
    "In this file we are going to make a couple of examples over how to program using Julia (Julia will be executed by Jupyter Notebooks in this case).\n",
    "\n",
    "## Quick guide\n",
    "\n",
    "In this project, we are going to show the basics over how to analyze data using `Julia`.\n",
    "\n",
    "#### First\n",
    "We are going to make sure you have the right dependencies on file."
   ]
  },
  {
   "cell_type": "code",
   "execution_count": 3,
   "id": "95656810-bd55-41d3-849d-ac6f1eac6644",
   "metadata": {},
   "outputs": [
    {
     "name": "stderr",
     "output_type": "stream",
     "text": [
      "\u001b[32m\u001b[1m    Updating\u001b[22m\u001b[39m registry at `C:\\Users\\miguelestradam36\\.julia\\registries\\General`\n",
      "\u001b[32m\u001b[1m    Updating\u001b[22m\u001b[39m git-repo `https://github.com/JuliaRegistries/General.git`\n",
      "\u001b[32m\u001b[1m   Resolving\u001b[22m\u001b[39m package versions...\n",
      "\u001b[32m\u001b[1m  No Changes\u001b[22m\u001b[39m to `C:\\Users\\miguelestradam36\\.julia\\environments\\v1.6\\Project.toml`\n",
      "\u001b[32m\u001b[1m  No Changes\u001b[22m\u001b[39m to `C:\\Users\\miguelestradam36\\.julia\\environments\\v1.6\\Manifest.toml`\n",
      "\u001b[32m\u001b[1m   Resolving\u001b[22m\u001b[39m package versions...\n",
      "\u001b[32m\u001b[1m  No Changes\u001b[22m\u001b[39m to `C:\\Users\\miguelestradam36\\.julia\\environments\\v1.6\\Project.toml`\n",
      "\u001b[32m\u001b[1m  No Changes\u001b[22m\u001b[39m to `C:\\Users\\miguelestradam36\\.julia\\environments\\v1.6\\Manifest.toml`\n"
     ]
    }
   ],
   "source": [
    "# Make sure to install the package in the REPL first\n",
    "import Pkg\n",
    "\n",
    "Pkg.add(\"CSV\")\n",
    "Pkg.add(\"DataFrames\")"
   ]
  },
  {
   "cell_type": "markdown",
   "id": "c29417be-1ab1-49ef-b2ca-1d32c3e75eb7",
   "metadata": {},
   "source": [
    "### Second\n",
    "We are going to define now the working environment and include those modules we just installed."
   ]
  },
  {
   "cell_type": "code",
   "execution_count": null,
   "id": "00019b07-a651-4038-9bea-dda4ad16973b",
   "metadata": {},
   "outputs": [],
   "source": [
    "# 1 Set working directory in Atom settings under Julia tab\n",
    "pwd()"
   ]
  },
  {
   "cell_type": "code",
   "execution_count": 9,
   "id": "b60af9b0-4247-4a60-9e05-835e403e1c4f",
   "metadata": {},
   "outputs": [],
   "source": [
    "# III Importing data files\n",
    "using CSV;\n",
    "using DataFrames;"
   ]
  },
  {
   "cell_type": "markdown",
   "id": "294c56d0-3f85-4a2a-a556-9850f953af7e",
   "metadata": {},
   "source": [
    "### Third\n",
    "We are going to extract the data from a CSV file. Values here are separated by a comma."
   ]
  },
  {
   "cell_type": "code",
   "execution_count": 10,
   "id": "54bfaf93-8b88-4853-8bfa-8cb6e397eae1",
   "metadata": {},
   "outputs": [],
   "source": [
    "data1 = CSV.read(\"data.csv\", DataFrame);"
   ]
  },
  {
   "cell_type": "code",
   "execution_count": 12,
   "id": "5dc66666-c337-4603-91dd-864ab685e1c6",
   "metadata": {
    "scrolled": true
   },
   "outputs": [
    {
     "data": {
      "text/html": [
       "<div><div style = \"float: left;\"><span>6×7 DataFrame</span></div><div style = \"clear: both;\"></div></div><div class = \"data-frame\" style = \"overflow-x: scroll;\"><table class = \"data-frame\" style = \"margin-bottom: 6px;\"><thead><tr class = \"header\"><th class = \"rowNumber\" style = \"font-weight: bold; text-align: right;\">Row</th><th style = \"text-align: left;\">variable</th><th style = \"text-align: left;\">mean</th><th style = \"text-align: left;\">min</th><th style = \"text-align: left;\">median</th><th style = \"text-align: left;\">max</th><th style = \"text-align: left;\">nmissing</th><th style = \"text-align: left;\">eltype</th></tr><tr class = \"subheader headerLastRow\"><th class = \"rowNumber\" style = \"font-weight: bold; text-align: right;\"></th><th title = \"Symbol\" style = \"text-align: left;\">Symbol</th><th title = \"Union{Nothing, Float64}\" style = \"text-align: left;\">Union…</th><th title = \"Any\" style = \"text-align: left;\">Any</th><th title = \"Union{Nothing, Float64}\" style = \"text-align: left;\">Union…</th><th title = \"Any\" style = \"text-align: left;\">Any</th><th title = \"Int64\" style = \"text-align: left;\">Int64</th><th title = \"DataType\" style = \"text-align: left;\">DataType</th></tr></thead><tbody><tr><td class = \"rowNumber\" style = \"font-weight: bold; text-align: right;\">1</td><td style = \"text-align: left;\">PatientID</td><td style = \"text-align: left;\">60.5</td><td style = \"text-align: left;\">1</td><td style = \"text-align: left;\">60.5</td><td style = \"text-align: left;\">120</td><td style = \"text-align: right;\">0</td><td style = \"text-align: left;\">Int64</td></tr><tr><td class = \"rowNumber\" style = \"font-weight: bold; text-align: right;\">2</td><td style = \"text-align: left;\">Cat1</td><td style = \"font-style: italic; text-align: left;\"></td><td style = \"text-align: left;\">A</td><td style = \"font-style: italic; text-align: left;\"></td><td style = \"text-align: left;\">B</td><td style = \"text-align: right;\">0</td><td style = \"text-align: left;\">String1</td></tr><tr><td class = \"rowNumber\" style = \"font-weight: bold; text-align: right;\">3</td><td style = \"text-align: left;\">Cat2</td><td style = \"font-style: italic; text-align: left;\"></td><td style = \"text-align: left;\">B</td><td style = \"font-style: italic; text-align: left;\"></td><td style = \"text-align: left;\">X</td><td style = \"text-align: right;\">0</td><td style = \"text-align: left;\">String1</td></tr><tr><td class = \"rowNumber\" style = \"font-weight: bold; text-align: right;\">4</td><td style = \"text-align: left;\">Var1</td><td style = \"text-align: left;\">27.9679</td><td style = \"text-align: left;\">15.2356</td><td style = \"text-align: left;\">22.6801</td><td style = \"text-align: left;\">84.2378</td><td style = \"text-align: right;\">0</td><td style = \"text-align: left;\">Float64</td></tr><tr><td class = \"rowNumber\" style = \"font-weight: bold; text-align: right;\">5</td><td style = \"text-align: left;\">Var2</td><td style = \"text-align: left;\">5.92121</td><td style = \"text-align: left;\">3.01173</td><td style = \"text-align: left;\">5.64241</td><td style = \"text-align: left;\">15.5826</td><td style = \"text-align: right;\">0</td><td style = \"text-align: left;\">Float64</td></tr><tr><td class = \"rowNumber\" style = \"font-weight: bold; text-align: right;\">6</td><td style = \"text-align: left;\">Var3</td><td style = \"text-align: left;\">51.95</td><td style = \"text-align: left;\">20.3153</td><td style = \"text-align: left;\">44.3042</td><td style = \"text-align: left;\">147.397</td><td style = \"text-align: right;\">0</td><td style = \"text-align: left;\">Float64</td></tr></tbody></table></div>"
      ],
      "text/latex": [
       "\\begin{tabular}{r|ccccccc}\n",
       "\t& variable & mean & min & median & max & nmissing & eltype\\\\\n",
       "\t\\hline\n",
       "\t& Symbol & Union… & Any & Union… & Any & Int64 & DataType\\\\\n",
       "\t\\hline\n",
       "\t1 & PatientID & 60.5 & 1 & 60.5 & 120 & 0 & Int64 \\\\\n",
       "\t2 & Cat1 &  & A &  & B & 0 & String1 \\\\\n",
       "\t3 & Cat2 &  & B &  & X & 0 & String1 \\\\\n",
       "\t4 & Var1 & 27.9679 & 15.2356 & 22.6801 & 84.2378 & 0 & Float64 \\\\\n",
       "\t5 & Var2 & 5.92121 & 3.01173 & 5.64241 & 15.5826 & 0 & Float64 \\\\\n",
       "\t6 & Var3 & 51.95 & 20.3153 & 44.3042 & 147.397 & 0 & Float64 \\\\\n",
       "\\end{tabular}\n"
      ],
      "text/plain": [
       "\u001b[1m6×7 DataFrame\u001b[0m\n",
       "\u001b[1m Row \u001b[0m│\u001b[1m variable  \u001b[0m\u001b[1m mean    \u001b[0m\u001b[1m min     \u001b[0m\u001b[1m median  \u001b[0m\u001b[1m max     \u001b[0m\u001b[1m nmissing \u001b[0m\u001b[1m eltype   \u001b[0m\n",
       "     │\u001b[90m Symbol    \u001b[0m\u001b[90m Union…  \u001b[0m\u001b[90m Any     \u001b[0m\u001b[90m Union…  \u001b[0m\u001b[90m Any     \u001b[0m\u001b[90m Int64    \u001b[0m\u001b[90m DataType \u001b[0m\n",
       "─────┼───────────────────────────────────────────────────────────────────\n",
       "   1 │ PatientID  60.5     1        60.5     120             0  Int64\n",
       "   2 │ Cat1      \u001b[90m         \u001b[0m A       \u001b[90m         \u001b[0m B               0  String1\n",
       "   3 │ Cat2      \u001b[90m         \u001b[0m B       \u001b[90m         \u001b[0m X               0  String1\n",
       "   4 │ Var1       27.9679  15.2356  22.6801  84.2378         0  Float64\n",
       "   5 │ Var2       5.92121  3.01173  5.64241  15.5826         0  Float64\n",
       "   6 │ Var3       51.95    20.3153  44.3042  147.397         0  Float64"
      ]
     },
     "execution_count": 12,
     "metadata": {},
     "output_type": "execute_result"
    }
   ],
   "source": [
    "describe(data1)"
   ]
  }
 ],
 "metadata": {
  "kernelspec": {
   "display_name": "Julia 1.6.7",
   "language": "julia",
   "name": "julia-1.6"
  },
  "language_info": {
   "file_extension": ".jl",
   "mimetype": "application/julia",
   "name": "julia",
   "version": "1.6.7"
  }
 },
 "nbformat": 4,
 "nbformat_minor": 5
}
