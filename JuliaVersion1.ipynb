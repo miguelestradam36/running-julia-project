{
 "cells": [
  {
   "cell_type": "markdown",
   "id": "2a601e47-ed1b-49e3-97e6-a47840c29035",
   "metadata": {},
   "source": [
    "# Julia Programming language\n",
    "\n",
    "In this file we are going to make a couple of examples over how to program Julia"
   ]
  },
  {
   "cell_type": "markdown",
   "id": "489590fd-c64e-4bcd-88b0-11e610dbcedc",
   "metadata": {},
   "source": [
    "## First working example\n",
    "How to program functions in Julia."
   ]
  },
  {
   "cell_type": "code",
   "execution_count": 2,
   "id": "9b07824d-4190-45f3-bbf1-b95aa1345945",
   "metadata": {},
   "outputs": [
    {
     "name": "stdout",
     "output_type": "stream",
     "text": [
      "33\n"
     ]
    }
   ],
   "source": [
    "##Variables\n",
    "a=4\n",
    "b=7\n",
    "## Functions\n",
    "function f(x)  \n",
    "  b = 5 \n",
    "  println(a*x + b)\n",
    "end\n",
    "##Execution\n",
    "f(7)"
   ]
  },
  {
   "cell_type": "markdown",
   "id": "5e380bbb-f3bd-42d0-841a-9ff26ce30644",
   "metadata": {},
   "source": [
    "## Second working example"
   ]
  },
  {
   "cell_type": "code",
   "execution_count": null,
   "id": "54bfaf93-8b88-4853-8bfa-8cb6e397eae1",
   "metadata": {},
   "outputs": [],
   "source": []
  }
 ],
 "metadata": {
  "kernelspec": {
   "display_name": "Julia 1.6.7",
   "language": "julia",
   "name": "julia-1.6"
  },
  "language_info": {
   "file_extension": ".jl",
   "mimetype": "application/julia",
   "name": "julia",
   "version": "1.6.7"
  }
 },
 "nbformat": 4,
 "nbformat_minor": 5
}
