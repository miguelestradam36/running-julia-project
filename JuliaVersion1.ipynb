{
 "cells": [
  {
   "cell_type": "code",
   "execution_count": null,
   "id": "9b07824d-4190-45f3-bbf1-b95aa1345945",
   "metadata": {},
   "outputs": [],
   "source": [
    "println(\"Hello my dear Julia.\")"
   ]
  },
  {
   "cell_type": "code",
   "execution_count": null,
   "id": "8fa86397-b833-4331-bd0c-859130378b82",
   "metadata": {},
   "outputs": [],
   "source": []
  }
 ],
 "metadata": {
  "kernelspec": {
   "display_name": "Julia 1.6.7",
   "language": "julia",
   "name": "julia-1.6"
  },
  "language_info": {
   "file_extension": ".jl",
   "mimetype": "application/julia",
   "name": "julia",
   "version": "1.6.7"
  }
 },
 "nbformat": 4,
 "nbformat_minor": 5
}
